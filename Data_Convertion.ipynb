{
 "cells": [
  {
   "cell_type": "code",
   "execution_count": 2,
   "id": "a54867c2",
   "metadata": {},
   "outputs": [],
   "source": [
    "import numpy as np\n",
    "import mat73\n",
    "import os\n",
    "from tqdm import tqdm"
   ]
  },
  {
   "cell_type": "code",
   "execution_count": 3,
   "id": "2827f0ca",
   "metadata": {},
   "outputs": [],
   "source": [
    "def converter(input_path, output_path, input_size=(512,512)):\n",
    "    path = input_path\n",
    "    if not os.path.isdir(output_path):os.makedirs(output_path)\n",
    "    if not os.path.isdir(output_path + '/image'):os.makedirs(output_path + '/image') \n",
    "    if not os.path.isdir(output_path + '/mask'):os.makedirs(output_path + '/mask') \n",
    "    if not os.path.isdir(output_path + '/label'):os.makedirs(output_path + '/label') \n",
    "    \n",
    "    ds_name = list(os.listdir(path))\n",
    "    shape_missmatch_list = []\n",
    "    for name in tqdm(ds_name):\n",
    "        data_dict = mat73.loadmat(path+'/'+name)['cjdata']\n",
    "        if data_dict['image'].shape==input_size: \n",
    "            new_name = name.split('.')[0]\n",
    "            np.save(f'{output_path}/image/{new_name}.npy', np.expand_dims(data_dict['image'], -1))\n",
    "            np.save(f'{output_path}/mask/{new_name}.npy', np.expand_dims(data_dict['tumorMask'], -1))\n",
    "            np.save(f'{output_path}/label/{new_name}.npy', data_dict['label'])\n",
    "        else:\n",
    "            shape_missmatch_list.append(name)\n",
    "    \n",
    "    print(f'These files have miss-matched shapes:\\n{shape_missmatch_list}')"
   ]
  },
  {
   "cell_type": "code",
   "execution_count": 4,
   "id": "e9a573be",
   "metadata": {
    "scrolled": true
   },
   "outputs": [
    {
     "name": "stderr",
     "output_type": "stream",
     "text": [
      "100%|██████████████████████████████████████████████████████████████████████████████| 3049/3049 [00:45<00:00, 66.46it/s]"
     ]
    },
    {
     "name": "stdout",
     "output_type": "stream",
     "text": [
      "These files have miss-matched shapes:\n",
      "[]\n"
     ]
    },
    {
     "name": "stderr",
     "output_type": "stream",
     "text": [
      "\n"
     ]
    }
   ],
   "source": [
    "converter('DATA/data/', 'DATA/as_numpy/', (512,512))"
   ]
  },
  {
   "cell_type": "code",
   "execution_count": null,
   "id": "f5a4531b",
   "metadata": {},
   "outputs": [],
   "source": []
  }
 ],
 "metadata": {
  "kernelspec": {
   "display_name": "Python 3 (ipykernel)",
   "language": "python",
   "name": "python3"
  },
  "language_info": {
   "codemirror_mode": {
    "name": "ipython",
    "version": 3
   },
   "file_extension": ".py",
   "mimetype": "text/x-python",
   "name": "python",
   "nbconvert_exporter": "python",
   "pygments_lexer": "ipython3",
   "version": "3.10.11"
  }
 },
 "nbformat": 4,
 "nbformat_minor": 5
}
